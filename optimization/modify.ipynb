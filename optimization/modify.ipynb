{
 "cells": [
  {
   "cell_type": "code",
   "execution_count": 16,
   "source": [
    "import random\n",
    "from typing import Callable\n",
    "\n",
    "\n",
    "def node_exchange(solution):\n",
    "    idx_node_1 = random.randint(0,len(solution)-1)\n",
    "    idx_node_2 = random.randint(0,len(solution)-1)\n",
    "    if idx_node_1 == idx_node_2:\n",
    "        return node_exchange(solution)\n",
    "    else:\n",
    "        solution[idx_node_1], solution[idx_node_2] = solution[idx_node_2], solution[idx_node_1]\n",
    "\n",
    "\n",
    "def node_insertion(solution):\n",
    "    n = len(solution)\n",
    "    node = solution.pop(random.randint(0, n-1))\n",
    "    solution.insert(random.randint(0,n-2), node)\n",
    "\n",
    "\n",
    "def two_opt_step(solution, i, k):\n",
    "    idx = 0\n",
    "    new_sol = list(solution)\n",
    "    while i+idx < k:\n",
    "        new_sol[i+idx],new_sol[k-idx] = new_sol[k-idx],new_sol[i+idx]\n",
    "        idx += 1\n",
    "    return new_sol\n",
    "    \n",
    "\n",
    "def two_opt_local_search(solution,distance_function):\n",
    "    cur_sol = solution\n",
    "    cur_dist = distance_function(cur_sol)\n",
    "    n = len(solution)\n",
    "    for i in range(n-1):\n",
    "        for j in range(i+1,n):\n",
    "            step = two_opt_step(cur_sol,i,j)\n",
    "            step_dist = distance_function(step)\n",
    "            if step_dist < cur_dist:\n",
    "                cur_sol = list(step)\n",
    "                cur_dist = step_dist\n",
    "\n",
    "\n",
    "def print_tour(tour):\n",
    "    cities = [\"Mainz\",\"Wiesbaden\",\"Frankfurt\",\"Berlin\",\"München\",\"Köln\"]\n",
    "    s = \"\"\n",
    "    for city in tour:\n",
    "        s += cities[city] + \" - \"\n",
    "    print(s[:-2])\n",
    "\n",
    "def test(f:Callable):\n",
    "    print(f.__name__)\n",
    "    solution = [0,1,2,3,4,5]\n",
    "    for _ in range(10):\n",
    "        print_tour(solution)\n",
    "        f(solution)\n",
    "    print()"
   ],
   "outputs": [],
   "metadata": {}
  },
  {
   "cell_type": "code",
   "execution_count": 18,
   "source": [
    "s = [0,1,2,3,4,5]\n",
    "print(s)\n",
    "\n",
    "ns = two_opt_step(s,1,4)\n",
    "print(ns)\n"
   ],
   "outputs": [
    {
     "output_type": "stream",
     "name": "stdout",
     "text": [
      "[0, 1, 2, 3, 4, 5]\n",
      "[0, 4, 2, 3, 1, 5]\n"
     ]
    }
   ],
   "metadata": {}
  },
  {
   "cell_type": "code",
   "execution_count": 14,
   "source": [
    "test(node_exchange)\n",
    "test(node_insertion)"
   ],
   "outputs": [
    {
     "output_type": "stream",
     "name": "stdout",
     "text": [
      "node_exchange\n",
      "Mainz - Wiesbaden - Frankfurt - Berlin - München - Köln \n",
      "Mainz - Köln - Frankfurt - Berlin - München - Wiesbaden \n",
      "Mainz - Köln - Berlin - Frankfurt - München - Wiesbaden \n",
      "Mainz - Köln - München - Frankfurt - Berlin - Wiesbaden \n",
      "Mainz - Köln - Wiesbaden - Frankfurt - Berlin - München \n",
      "Mainz - Köln - Wiesbaden - Frankfurt - München - Berlin \n",
      "Berlin - Köln - Wiesbaden - Frankfurt - München - Mainz \n",
      "Berlin - Köln - München - Frankfurt - Wiesbaden - Mainz \n",
      "Berlin - Mainz - München - Frankfurt - Wiesbaden - Köln \n",
      "Berlin - Wiesbaden - München - Frankfurt - Mainz - Köln \n",
      "\n",
      "node_insertion\n",
      "Mainz - Wiesbaden - Frankfurt - Berlin - München - Köln \n",
      "Mainz - Frankfurt - Berlin - München - Wiesbaden - Köln \n",
      "Mainz - Frankfurt - Berlin - München - Wiesbaden - Köln \n",
      "Mainz - München - Frankfurt - Berlin - Wiesbaden - Köln \n",
      "Köln - Mainz - München - Frankfurt - Berlin - Wiesbaden \n",
      "Wiesbaden - Köln - Mainz - München - Frankfurt - Berlin \n",
      "Köln - Wiesbaden - Mainz - München - Frankfurt - Berlin \n",
      "Köln - Mainz - Wiesbaden - München - Frankfurt - Berlin \n",
      "Mainz - Köln - Wiesbaden - München - Frankfurt - Berlin \n",
      "Mainz - Köln - Wiesbaden - München - Frankfurt - Berlin \n",
      "\n"
     ]
    }
   ],
   "metadata": {}
  }
 ],
 "metadata": {
  "orig_nbformat": 4,
  "language_info": {
   "name": "python",
   "version": "3.9.6",
   "mimetype": "text/x-python",
   "codemirror_mode": {
    "name": "ipython",
    "version": 3
   },
   "pygments_lexer": "ipython3",
   "nbconvert_exporter": "python",
   "file_extension": ".py"
  },
  "kernelspec": {
   "name": "python396jvsc74a57bd0397704579725e15f5c7cb49fe5f0341eb7531c82d19f2c29d197e8b64ab5776b",
   "display_name": "Python 3.9.6 64-bit ('local')",
   "language": "python"
  }
 },
 "nbformat": 4,
 "nbformat_minor": 2
}