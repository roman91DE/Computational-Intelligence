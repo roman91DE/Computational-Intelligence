{
 "cells": [
  {
   "cell_type": "code",
   "execution_count": 23,
   "source": [
    "import math\n",
    "import random\n",
    "from typing import List"
   ],
   "outputs": [],
   "metadata": {}
  },
  {
   "cell_type": "code",
   "execution_count": 7,
   "source": [
    "n = 3 / 10**-6\n",
    "print(n)\n",
    "\n",
    "i = 0\n",
    "while True:\n",
    "    if 2**i >= n:\n",
    "        print(i)\n",
    "        break\n",
    "    i += 1\n",
    "\n",
    "print(math.ceil(math.log(n,2)))"
   ],
   "outputs": [
    {
     "output_type": "stream",
     "name": "stdout",
     "text": [
      "3000000.0\n",
      "22\n",
      "22\n"
     ]
    }
   ],
   "metadata": {}
  },
  {
   "cell_type": "code",
   "execution_count": 3,
   "source": [
    "def binary_mutation_inplace(chromosome:List[bool], mutation_rate:float):\n",
    "  for idx, gene in enumerate(chromosome):\n",
    "    if random.random() <= mutation_rate:\n",
    "      chromosome[idx] = not gene"
   ],
   "outputs": [],
   "metadata": {}
  },
  {
   "cell_type": "code",
   "execution_count": 4,
   "source": [
    "a = [True, False, True]\n",
    "print(a)\n",
    "binary_mutation_inplace(a,.99)\n",
    "print(a)"
   ],
   "outputs": [
    {
     "output_type": "stream",
     "name": "stdout",
     "text": [
      "[True, False, True]\n",
      "[False, True, False]\n"
     ]
    }
   ],
   "metadata": {}
  },
  {
   "cell_type": "code",
   "execution_count": 26,
   "source": [
    "\n",
    "heads = 0\n",
    "n = 6\n",
    "p = .5\n",
    "q = 1-p\n",
    "\n",
    "def B(k,p,n):\n",
    "    return math.comb(n,k) * (p**k) * (q**(n-k))\n",
    "\n",
    "arr = []\n",
    "\n",
    "for k in range(7):\n",
    "    x = B(k,p,n)\n",
    "    arr.append(x)\n",
    "    print(f\"P(k={k}) = {x}\")\n",
    "    \n",
    "\n",
    "print(sum(arr))\n"
   ],
   "outputs": [
    {
     "output_type": "stream",
     "name": "stdout",
     "text": [
      "P0 = 0.015625\n",
      "P1 = 0.09375\n",
      "P2 = 0.234375\n",
      "P3 = 0.3125\n",
      "P4 = 0.234375\n",
      "P5 = 0.09375\n",
      "P6 = 0.015625\n",
      "1.0\n"
     ]
    }
   ],
   "metadata": {}
  }
 ],
 "metadata": {
  "orig_nbformat": 4,
  "language_info": {
   "name": "python",
   "version": "3.9.6",
   "mimetype": "text/x-python",
   "codemirror_mode": {
    "name": "ipython",
    "version": 3
   },
   "pygments_lexer": "ipython3",
   "nbconvert_exporter": "python",
   "file_extension": ".py"
  },
  "kernelspec": {
   "name": "python3",
   "display_name": "Python 3.9.6 64-bit"
  },
  "interpreter": {
   "hash": "aee8b7b246df8f9039afb4144a1f6fd8d2ca17a180786b69acc140d282b71a49"
  }
 },
 "nbformat": 4,
 "nbformat_minor": 2
}