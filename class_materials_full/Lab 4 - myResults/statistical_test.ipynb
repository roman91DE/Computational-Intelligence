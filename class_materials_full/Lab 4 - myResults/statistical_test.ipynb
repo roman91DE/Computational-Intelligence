{
 "metadata": {
  "language_info": {
   "codemirror_mode": {
    "name": "ipython",
    "version": 3
   },
   "file_extension": ".py",
   "mimetype": "text/x-python",
   "name": "python",
   "nbconvert_exporter": "python",
   "pygments_lexer": "ipython3",
   "version": "3.9.6"
  },
  "orig_nbformat": 4,
  "kernelspec": {
   "name": "python3",
   "display_name": "Python 3.9.6 64-bit ('local')"
  },
  "interpreter": {
   "hash": "397704579725e15f5c7cb49fe5f0341eb7531c82d19f2c29d197e8b64ab5776b"
  }
 },
 "nbformat": 4,
 "nbformat_minor": 2,
 "cells": [
  {
   "cell_type": "code",
   "execution_count": 7,
   "metadata": {},
   "outputs": [],
   "source": [
    "from scipy.stats import shapiro, anderson, kstest, ttest_ind, mannwhitneyu, ks_2samp, rankdata\n",
    "import math\n",
    "from statistics import variance, mean"
   ]
  },
  {
   "cell_type": "code",
   "execution_count": 50,
   "metadata": {},
   "outputs": [],
   "source": [
    "# read results from our final test runs\n",
    "\n",
    "hc, metropolis, sa = [], [], []\n",
    "log_file = open(\"final_contest.tsv\")\n",
    "\n",
    "for line in log_file:\n",
    "\n",
    "    temp = line.split(\"\\t\")\n",
    "    if temp[0] == \"hc_maxIterations\":\n",
    "        hc.append(float(temp[3]))\n",
    "    elif temp[0] == \"metropolis_maxIterations\":\n",
    "        metropolis.append(float(temp[3]))\n",
    "    elif temp[0] == \"simulated_annealing_maxIterations\":\n",
    "        sa.append(float(temp[3]))\n",
    "\n",
    "log_file.close()\n",
    "\n",
    "\n",
    "hc.sort()\n",
    "metropolis.sort()\n",
    "sa.sort()"
   ]
  },
  {
   "cell_type": "code",
   "execution_count": 52,
   "metadata": {},
   "outputs": [
    {
     "output_type": "stream",
     "name": "stdout",
     "text": [
      "Stats for Hill Climber:\nAverage Costs: 1.5799999999999998\nLowest Cost Solution: 1.2\nStd.Deviation: 0.22010098692292232\n\n\nStats for Simulated Annealing:\nAverage Costs: 1.3399999999999999\nLowest Cost Solution: 1.2\nStd.Deviation: 0.16465452046971288\n\n\nStats for Metropolis:\nAverage Costs: 1.22\nLowest Cost Solution: 1.2\nStd.Deviation: 0.06324555320336757\n\n\n"
     ]
    }
   ],
   "source": [
    "# print basic descriptive statistics\n",
    "\n",
    "def describe(seq:list, name:str):\n",
    "    print(f\"Stats for {name}:\")\n",
    "    print(f\"Average Costs: {mean(seq)}\\nLowest Cost Solution: {min(seq)}\\nStd.Deviation: {math.sqrt(variance(seq))}\\n\\n\")\n",
    "\n",
    "describe(hc, \"Hill Climber\")\n",
    "describe(sa, \"Simulated Annealing\")\n",
    "describe(metropolis, \"Metropolis\")"
   ]
  },
  {
   "cell_type": "code",
   "execution_count": 11,
   "metadata": {},
   "outputs": [
    {
     "output_type": "stream",
     "name": "stdout",
     "text": [
      "Shapiro-Wilk: p-value                                0.009139\nKolmogorov-Smirnov: p-value                          0.000000\nAnderson: test statistic                             0.990038\nAnderson: critical value                             0.684000 \n\nShapiro-Wilk: p-value                                0.008500\nKolmogorov-Smirnov: p-value                          0.000000\nAnderson: test statistic                             0.947045\nAnderson: critical value                             0.684000 \n\nShapiro-Wilk: p-value                                0.000000\nKolmogorov-Smirnov: p-value                          0.000000\nAnderson: test statistic                             3.208057\nAnderson: critical value                             0.684000 \n\n"
     ]
    }
   ],
   "source": [
    "# test for normal distribution\n",
    "\n",
    "def test_normal(seq):\n",
    "\n",
    "        a_shapiro = shapiro(seq)\n",
    "        print(\"{:30s} {:30f}\".format(\"Shapiro-Wilk: p-value\", a_shapiro[1]))\n",
    "\n",
    "        # Kolmogorov-Smirnov\n",
    "        a_kolmogorov = kstest(seq, 'norm')\n",
    "        print(\"{:30s} {:30f}\".format(\"Kolmogorov-Smirnov: p-value\", a_kolmogorov[1]))\n",
    "\n",
    "        # Anderson (assumes alpha = 0.05)\n",
    "        a_anderson = anderson(seq, dist='norm')\n",
    "        print(\"{:30s} {:30f}\".format(\"Anderson: test statistic\", a_anderson[0]))\n",
    "        print(\"{:30s} {:30f}\".format(\"Anderson: critical value\", a_anderson[1][2]),\"\\n\")\n",
    "\n",
    "test_normal(hc)\n",
    "test_normal(sa)\n",
    "test_normal(metropolis)\n",
    "\n",
    "# >> data is not normal distributed !\n"
   ]
  },
  {
   "cell_type": "code",
   "execution_count": 54,
   "metadata": {},
   "outputs": [
    {
     "output_type": "stream",
     "name": "stdout",
     "text": [
      "\nMann - Whitney U test/ Wilcoxon rank-sum test\n\nHill Cimber - Metropolis\np-value                                              0.001279\nseq1 is not significantly different to seq2 for alpha=0.05\n\nHill Climber - Simulated Annealing\np-value                                              0.019390\nseq1 is not significantly different to seq2 for alpha=0.05\n\nSimulated Annealing - Metropolis\np-value                                              0.054522\nseq1 is significantly different to seq2 for alpha=0.052\n"
     ]
    }
   ],
   "source": [
    "# mann whitney u test for unpaired and not normal distributed data \n",
    "\n",
    "def mwu(seq1, seq2, alpha):\n",
    "\n",
    "    mannwhitney = mannwhitneyu(seq1, seq2, alternative=\"two-sided\")\n",
    "    print(\"{:30s} {:30f}\".format(\"p-value\", mannwhitney[1]))\n",
    "\n",
    "    if mannwhitney[1] < alpha:\n",
    "        print(f\"seq1 is not significantly different to seq2 for alpha={alpha}\")\n",
    "    else:\n",
    "        print(f\"seq1 is significantly different to seq2 for alpha={alpha}2\")\n",
    "\n",
    "print(\"\\nMann - Whitney U test/ Wilcoxon rank-sum test\\n\")\n",
    "\n",
    "print(\"Hill Cimber - Metropolis\")\n",
    "mwu(hc, metropolis, 0.05)\n",
    "\n",
    "print(\"\\nHill Climber - Simulated Annealing\")\n",
    "mwu(hc, sa, 0.05)\n",
    "\n",
    "print(\"\\nSimulated Annealing - Metropolis\")\n",
    "mwu(sa, metropolis, 0.05)"
   ]
  },
  {
   "cell_type": "code",
   "execution_count": 55,
   "metadata": {},
   "outputs": [
    {
     "output_type": "stream",
     "name": "stdout",
     "text": [
      "Hill Cimber - Metropolis\n\nVargha’s and Delaney’s A Measure\n0.5=no, 0.56=small, 0.64=medium, 0.71=big effect\nA measure                                            0.890000\n\nHill Climber - Simulated Annealing\n\nVargha’s and Delaney’s A Measure\n0.5=no, 0.56=small, 0.64=medium, 0.71=big effect\nA measure                                            0.800000\n\nSimulated Annealing - Metropolis\n\nVargha’s and Delaney’s A Measure\n0.5=no, 0.56=small, 0.64=medium, 0.71=big effect\nA measure                                            0.710000\n"
     ]
    }
   ],
   "source": [
    "# vargha & Delaney Effect Measure\n",
    "\n",
    "def vd_measure(seq1, seq2):\n",
    "    c = list(seq1) + list(seq2)\n",
    "    c_ranked = rankdata(c, method='average')\n",
    "    a_ranked = list(c_ranked[:len(seq1)])\n",
    "    b_ranked = list(c_ranked[len(seq1):len(seq1) + len(seq2)])\n",
    "    ranksum_a = sum(a_ranked)\n",
    "    ranksum_b = sum(b_ranked)\n",
    "\n",
    "    print(\"\\nVargha’s and Delaney’s A Measure\")\n",
    "    print(\"0.5=no, 0.56=small, 0.64=medium, 0.71=big effect\")\n",
    "    A = 1 / len(seq2) * (ranksum_a / len(seq1) - (len(seq1) + 1) / 2)\n",
    "    if A < 0.5:\n",
    "        A = 1 - A\n",
    "    print(\"{:30s} {:30f}\".format(\"A measure\", A))\n",
    "\n",
    "\n",
    "print(\"Hill Cimber - Metropolis\")\n",
    "vd_measure(hc, metropolis)\n",
    "\n",
    "print(\"\\nHill Climber - Simulated Annealing\")\n",
    "vd_measure(hc, sa)\n",
    "\n",
    "print(\"\\nSimulated Annealing - Metropolis\")\n",
    "vd_measure(sa, metropolis)\n"
   ]
  }
 ]
}