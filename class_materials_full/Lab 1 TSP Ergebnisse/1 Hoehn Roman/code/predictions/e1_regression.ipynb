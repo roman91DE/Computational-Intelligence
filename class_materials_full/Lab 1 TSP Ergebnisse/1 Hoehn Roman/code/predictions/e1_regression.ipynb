{
 "cells": [
  {
   "cell_type": "code",
   "execution_count": 2,
   "id": "pregnant-worthy",
   "metadata": {},
   "outputs": [],
   "source": [
    "import pandas as pd\n",
    "import statsmodels.api as sm\n",
    "import math\n",
    "from matplotlib import pyplot as plt\n"
   ]
  },
  {
   "cell_type": "code",
   "execution_count": 3,
   "id": "forced-carrier",
   "metadata": {},
   "outputs": [
    {
     "data": {
      "text/html": [
       "<div>\n",
       "<style scoped>\n",
       "    .dataframe tbody tr th:only-of-type {\n",
       "        vertical-align: middle;\n",
       "    }\n",
       "\n",
       "    .dataframe tbody tr th {\n",
       "        vertical-align: top;\n",
       "    }\n",
       "\n",
       "    .dataframe thead th {\n",
       "        text-align: right;\n",
       "    }\n",
       "</style>\n",
       "<table border=\"1\" class=\"dataframe\">\n",
       "  <thead>\n",
       "    <tr style=\"text-align: right;\">\n",
       "      <th></th>\n",
       "      <th>n</th>\n",
       "      <th>runtime</th>\n",
       "      <th>logruntime</th>\n",
       "    </tr>\n",
       "  </thead>\n",
       "  <tbody>\n",
       "    <tr>\n",
       "      <th>0</th>\n",
       "      <td>4</td>\n",
       "      <td>0.000030</td>\n",
       "      <td>-10.412956</td>\n",
       "    </tr>\n",
       "    <tr>\n",
       "      <th>1</th>\n",
       "      <td>5</td>\n",
       "      <td>0.000125</td>\n",
       "      <td>-8.987746</td>\n",
       "    </tr>\n",
       "    <tr>\n",
       "      <th>2</th>\n",
       "      <td>6</td>\n",
       "      <td>0.008953</td>\n",
       "      <td>-4.715756</td>\n",
       "    </tr>\n",
       "    <tr>\n",
       "      <th>3</th>\n",
       "      <td>7</td>\n",
       "      <td>0.006412</td>\n",
       "      <td>-5.049579</td>\n",
       "    </tr>\n",
       "    <tr>\n",
       "      <th>4</th>\n",
       "      <td>8</td>\n",
       "      <td>0.055637</td>\n",
       "      <td>-2.888909</td>\n",
       "    </tr>\n",
       "    <tr>\n",
       "      <th>5</th>\n",
       "      <td>9</td>\n",
       "      <td>0.552404</td>\n",
       "      <td>-0.593476</td>\n",
       "    </tr>\n",
       "    <tr>\n",
       "      <th>6</th>\n",
       "      <td>10</td>\n",
       "      <td>5.898209</td>\n",
       "      <td>1.774649</td>\n",
       "    </tr>\n",
       "    <tr>\n",
       "      <th>7</th>\n",
       "      <td>11</td>\n",
       "      <td>79.035545</td>\n",
       "      <td>4.369898</td>\n",
       "    </tr>\n",
       "  </tbody>\n",
       "</table>\n",
       "</div>"
      ],
      "text/plain": [
       "    n    runtime  logruntime\n",
       "0   4   0.000030  -10.412956\n",
       "1   5   0.000125   -8.987746\n",
       "2   6   0.008953   -4.715756\n",
       "3   7   0.006412   -5.049579\n",
       "4   8   0.055637   -2.888909\n",
       "5   9   0.552404   -0.593476\n",
       "6  10   5.898209    1.774649\n",
       "7  11  79.035545    4.369898"
      ]
     },
     "execution_count": 3,
     "metadata": {},
     "output_type": "execute_result"
    }
   ],
   "source": [
    "# read data from excercise 1 (runtime bruteforce algorithm for n cities)\n",
    "\n",
    "data = pd.read_csv(\"runtime.csv\", sep=\"\\t\")\n",
    "data.head(10)"
   ]
  },
  {
   "cell_type": "code",
   "execution_count": 5,
   "id": "professional-pound",
   "metadata": {},
   "outputs": [
    {
     "name": "stdout",
     "output_type": "stream",
     "text": [
      "                            OLS Regression Results                            \n",
      "==============================================================================\n",
      "Dep. Variable:             logruntime   R-squared:                       0.976\n",
      "Model:                            OLS   Adj. R-squared:                  0.972\n",
      "Method:                 Least Squares   F-statistic:                     242.0\n",
      "Date:                Sun, 09 May 2021   Prob (F-statistic):           4.47e-06\n",
      "Time:                        17:14:47   Log-Likelihood:                -8.9205\n",
      "No. Observations:                   8   AIC:                             21.84\n",
      "Df Residuals:                       6   BIC:                             22.00\n",
      "Df Model:                           1                                         \n",
      "Covariance Type:            nonrobust                                         \n",
      "==============================================================================\n",
      "                 coef    std err          t      P>|t|      [0.025      0.975]\n",
      "------------------------------------------------------------------------------\n",
      "const        -18.6540      1.031    -18.091      0.000     -21.177     -16.131\n",
      "n              2.0455      0.131     15.557      0.000       1.724       2.367\n",
      "==============================================================================\n",
      "Omnibus:                        6.412   Durbin-Watson:                   2.636\n",
      "Prob(Omnibus):                  0.041   Jarque-Bera (JB):                2.108\n",
      "Skew:                           1.234   Prob(JB):                        0.349\n",
      "Kurtosis:                       3.486   Cond. No.                         27.2\n",
      "==============================================================================\n",
      "\n",
      "Notes:\n",
      "[1] Standard Errors assume that the covariance matrix of the errors is correctly specified.\n"
     ]
    },
    {
     "name": "stderr",
     "output_type": "stream",
     "text": [
      "/usr/local/lib/python3.9/site-packages/scipy/stats/stats.py:1603: UserWarning: kurtosistest only valid for n>=20 ... continuing anyway, n=8\n",
      "  warnings.warn(\"kurtosistest only valid for n>=20 ... continuing \"\n"
     ]
    }
   ],
   "source": [
    "# estimate model using OLS\n",
    "\n",
    "# independent variable: n (=number of cities) \n",
    "x = data.n\n",
    "# include constant in model\n",
    "x = sm.add_constant(x)\n",
    "# dependent variable: ln(runtime)\n",
    "y = data.logruntime\n",
    "\n",
    "# use OLS regression from statsmodel library \n",
    "model = sm.OLS(y,x)\n",
    "result = model.fit()\n",
    "print(result.summary())"
   ]
  },
  {
   "cell_type": "code",
   "execution_count": 7,
   "id": "liberal-testimony",
   "metadata": {},
   "outputs": [
    {
     "name": "stdout",
     "output_type": "stream",
     "text": [
      "f*(x) = 7.919007140709145e-09 + 7.733024083484697^x\n"
     ]
    }
   ],
   "source": [
    "# prediction method\n",
    "\n",
    "const = (math.e)**-18.6540\n",
    "coef = (math.e)**2.0455\n",
    "\n",
    "print(\"f*(x) = {} + {}^x\".format(const,coef))\n",
    "\n",
    "def predict(n):\n",
    "    global const, coef\n",
    "    return const + coef**n"
   ]
  },
  {
   "cell_type": "code",
   "execution_count": 11,
   "id": "falling-yesterday",
   "metadata": {
    "scrolled": false
   },
   "outputs": [
    {
     "data": {
      "image/png": "[encoded data removed]",
      "text/plain": [
       "<Figure size 432x288 with 1 Axes>"
      ]
     },
     "metadata": {
      "needs_background": "light"
     },
     "output_type": "display_data"
    },
    {
     "name": "stdout",
     "output_type": "stream",
     "text": [
      " n - time(sec)\n",
      " 2 - 59.799661\n",
      " 3 - 462.432222\n",
      " 4 - 3575.999513\n",
      " 5 - 27653.290354\n",
      " 6 - 213843.560292\n",
      " 7 - 1653657.401835\n",
      " 8 - 12787772.514221\n",
      " 9 - 98888152.826598\n",
      "10 - 764704467.379396\n",
      "11 - 5913478062.993209\n",
      "12 - 45729068278.284920\n",
      "13 - 353623986311.293335\n",
      "14 - 2734582802643.094238\n",
      "15 - 21146594671122.128906\n",
      "16 - 163527125875476.562500\n"
     ]
    }
   ],
   "source": [
    "# estimate runtime and plot results\n",
    "\n",
    "x_, y_ = [], []\n",
    "\n",
    "for i in range(2,17):\n",
    "    x_.append(i)\n",
    "    y_.append(predict(i))\n",
    "    \n",
    "plt.plot(x_, y_)\n",
    "plt.xlabel(\"number of cities\")\n",
    "plt.ylabel(\"time in seconds\")\n",
    "plt.title(\"Time Estimates - TSP\")\n",
    "plt.show()\n",
    "\n",
    "print(\" n - time(sec)\")\n",
    "for n, t in zip(x_,y_):\n",
    "    print(\"{:2} - {:5f}\".format(n,t))\n"
   ]
  },
  {
   "cell_type": "code",
   "execution_count": null,
   "id": "tribal-rabbit",
   "metadata": {},
   "outputs": [],
   "source": [
    "# inspired by https://towardsdatascience.com/modeling-exponential-growth-49a2b6f22e1f"
   ]
  }
 ],
 "metadata": {
  "kernelspec": {
   "display_name": "Python 3.9.1 64-bit",
   "language": "python",
   "name": "python39164bit3ae7d8496e264f50a4b703e2b96d1021"
  },
  "language_info": {
   "codemirror_mode": {
    "name": "ipython",
    "version": 3
   },
   "file_extension": ".py",
   "mimetype": "text/x-python",
   "name": "python",
   "nbconvert_exporter": "python",
   "pygments_lexer": "ipython3",
   "version": "3.9.5"
  },
  "metadata": {
   "interpreter": {
    "hash": "ac2eaa0ea0ebeafcc7822e65e46aa9d4f966f30b695406963e145ea4a91cd4fc"
   }
  }
 },
 "nbformat": 4,
 "nbformat_minor": 5
}
