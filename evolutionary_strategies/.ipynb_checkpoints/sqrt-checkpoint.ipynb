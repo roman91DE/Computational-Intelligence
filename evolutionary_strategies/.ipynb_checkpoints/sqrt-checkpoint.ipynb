{
 "cells": [
  {
   "cell_type": "code",
   "execution_count": 9,
   "metadata": {},
   "outputs": [],
   "source": [
    "import time\n",
    "import math\n",
    "import random"
   ]
  },
  {
   "cell_type": "code",
   "execution_count": 29,
   "metadata": {},
   "outputs": [],
   "source": [
    "def heron_sqrt(num:float, time_limit:float) -> float:\n",
    "\n",
    "    t0 = time.time()\n",
    "    a = num\n",
    "    x = (num//2) + 1\n",
    "\n",
    "    while time.time()-t0 < time_limit:\n",
    "\n",
    "        x = 1/2 * (x + (a/x))\n",
    "\n",
    "    print(f\"Heron algorithm: √{num} = {x}\\n\\t-Computation Time: {time_limit}sec\\n---\\n\")\n",
    "    \n",
    "    "
   ]
  },
  {
   "cell_type": "code",
   "execution_count": 30,
   "metadata": {},
   "outputs": [],
   "source": [
    "def builtin_sqrt(num:float):\n",
    "    \n",
    "    t0 = time.time()\n",
    "    sq = math.sqrt(num)\n",
    "    t = time.time() - t0\n",
    "    \n",
    "    print(f\"Builtin algorithm: √{num} = {sq}\\n\\t-Computation Time: {t}sec\\n---\\n\")\n",
    "    \n",
    "    \n",
    "    "
   ]
  },
  {
   "cell_type": "code",
   "execution_count": 34,
   "metadata": {},
   "outputs": [],
   "source": [
    "class Solution:\n",
    "    \n",
    "    def __init__(self, num:float, val:float=None, std_dev:float=10) -> None:\n",
    "        self.input_num = num\n",
    "        if not val:\n",
    "            self.val = random.randrange(-100,100)\n",
    "        else:\n",
    "            self.val = val\n",
    "        self.std_dev = std_dev\n",
    "        self.fit = self.get_fitness()\n",
    "        self.improved = False\n",
    "        \n",
    "    def get_fitness(self) -> float:\n",
    "        return abs(self.input_num - (self.val * self.val)) * -1\n",
    "\n",
    "    def mutate(self) -> None:\n",
    "        self.val += random.gauss(0, self.std_dev)\n",
    "        temp = self.get_fitness()\n",
    "        if temp > self.fit:\n",
    "            self.improved = True\n",
    "        self.fit = temp\n",
    "        \n",
    "        \n",
    "\n",
    "        \n",
    "class Population:\n",
    "    \n",
    "    def __init__(self,num,mu=40,sigma=20):\n",
    "        self.mu = mu\n",
    "        self.sigma = sigma\n",
    "        self.input_num = num\n",
    "        self.pop = [Solution(num=num) for _ in range(mu)]\n",
    "        \n",
    "    def sort(self):\n",
    "        self.pop.sort(key=lambda x: x.fit, reverse=True)\n",
    "        \n",
    "    def solve(self, time_limit:float):\n",
    "        \n",
    "        self.sort()\n",
    "        parents = self.pop\n",
    "        children = []\n",
    "        std_dev = 10\n",
    "        t0 = time.time()\n",
    "        \n",
    "        while time.time()-t0 < time_limit:\n",
    "            \n",
    "            count_improvs = 0\n",
    "            \n",
    "            for ch in range(self.sigma):\n",
    "                \n",
    "                child = Solution(num=self.input_num, val=parents[ch].val, std_dev=std_dev)\n",
    "                child.mutate()\n",
    "                \n",
    "                if child.improved:\n",
    "                    count_improvs += 1\n",
    "                    \n",
    "                children.append(child)\n",
    "                \n",
    "            if round(count_improvs / self.mu, 2) > .2:\n",
    "                std_dev *= 1.05\n",
    "                \n",
    "            elif round(count_improvs / self.mu, 2) < .2:\n",
    "                std_dev *= 0.95\n",
    "                \n",
    "            \n",
    "            self.pop = parents + children\n",
    "            self.sort()\n",
    "            self.pop = self.pop[:self.mu]\n",
    "                        \n",
    "        \n",
    "        sol = self.pop[0]\n",
    "        print(f\"ES algorithm: √{self.input_num} = {sol.val}\\n\\t-Computation Time: {time_limit}sec\\n---\\n\")\n",
    "        \n",
    "        \n",
    "    def run_es(num:float, time_limit:float):\n",
    "        p = Population (num)\n",
    "        p.solve(time_limit)\n",
    "            \n",
    "                \n"
   ]
  },
  {
   "cell_type": "code",
   "execution_count": 36,
   "metadata": {},
   "outputs": [
    {
     "name": "stdout",
     "output_type": "stream",
     "text": [
      "Heron algorithm: √184 = 13.564659966250536\n",
      "\t-Computation Time: 5sec\n",
      "---\n",
      "\n",
      "Builtin algorithm: √184 = 13.564659966250536\n",
      "\t-Computation Time: 5.245208740234375e-06sec\n",
      "---\n",
      "\n",
      "ES algorithm: √184 = -13.56481726758285\n",
      "\t-Computation Time: 5sec\n",
      "---\n",
      "\n"
     ]
    }
   ],
   "source": [
    "heron_sqrt(184,5)\n",
    "builtin_sqrt(184)\n",
    "Population.run_es(184,5)"
   ]
  }
 ],
 "metadata": {
  "kernelspec": {
   "display_name": "Python 3.9.6 64-bit ('3.9')",
   "language": "python",
   "name": "python396jvsc74a57bd011f0019e3984bf9dd420d9c19157658dc02fa04e5bba99878acfb010fb7ecd1e"
  },
  "language_info": {
   "codemirror_mode": {
    "name": "ipython",
    "version": 3
   },
   "file_extension": ".py",
   "mimetype": "text/x-python",
   "name": "python",
   "nbconvert_exporter": "python",
   "pygments_lexer": "ipython3",
   "version": "3.9.6"
  }
 },
 "nbformat": 4,
 "nbformat_minor": 2
}
