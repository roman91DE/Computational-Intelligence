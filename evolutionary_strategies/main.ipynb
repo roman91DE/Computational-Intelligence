{
 "cells": [
  {
   "cell_type": "code",
   "execution_count": 4,
   "source": [
    "import math\n",
    "from matplotlib import pyplot as plt\n",
    "import numpy as np\n",
    "import random"
   ],
   "outputs": [],
   "metadata": {}
  },
  {
   "cell_type": "code",
   "execution_count": 5,
   "source": [
    "def f(x:float) -> float:\n",
    "    return ((-1.52 * (x**3)) + (212*(x**2)) + (162*x)) - 2000000"
   ],
   "outputs": [],
   "metadata": {}
  },
  {
   "cell_type": "code",
   "execution_count": 6,
   "source": [
    "x_vals = np.array([(i+random.random()) for i in range(-99,99,10)])\n",
    "y_vals = np.array([f(x) for x in x_vals])\n",
    "\n",
    "plt.plot(x_vals,y_vals)\n",
    "plt.show()\n"
   ],
   "outputs": [
    {
     "output_type": "display_data",
     "data": {
      "text/plain": [
       "<Figure size 432x288 with 1 Axes>"
      ],
      "image/png": "[encoded data removed]"
     },
     "metadata": {
      "needs_background": "light"
     }
    }
   ],
   "metadata": {}
  },
  {
   "cell_type": "code",
   "execution_count": 7,
   "source": [
    "class Solution:\n",
    "\n",
    "    def __init__(self, std_dev:float, parent=None) -> None:\n",
    "\n",
    "        self.std = std_dev\n",
    "        \n",
    "        if parent:\n",
    "            self.gene = float(parent.gene)\n",
    "            self.mutate()\n",
    "            self.fit =  abs(f(self.gene))\n",
    "\n",
    "        else:\n",
    "            self.gene = float(np.random.normal(0,self.std))\n",
    "            self.fit =  abs(f(self.gene))\n",
    "        \n",
    "\n",
    "    def mutate(self):\n",
    "        r = float(np.random.normal(0,self.std))\n",
    "        self.gene = self.gene + r\n",
    "        "
   ],
   "outputs": [],
   "metadata": {}
  },
  {
   "cell_type": "code",
   "execution_count": 8,
   "source": [
    "def EA(mu, sigma, std_dev, max_gen):\n",
    "\n",
    "    parents = [Solution(std_dev=std_dev) for _ in range(mu)]\n",
    "    children = []\n",
    "    pool = parents\n",
    "    pool.sort(key=lambda x: x.fit)\n",
    "\n",
    "\n",
    "    for _ in range(max_gen):\n",
    "\n",
    "        std_dev *= 0.85\n",
    "\n",
    "        for c in range(sigma):\n",
    "\n",
    "            child = Solution(parent=parents[c], std_dev=std_dev)\n",
    "            children.append(child)\n",
    "        \n",
    "        pool = parents + children\n",
    "        pool.sort(key=lambda x: x.fit)\n",
    "\n",
    "        parents = list(pool[:mu])\n",
    "        children = []\n",
    "        # print(f\"x: {parents[0].gene:<30.26f}     y: {parents[0].fit:<30.26f}      std_dev: {std_dev:<30.26f}\")\n",
    "\n",
    "    print(f\"x: {parents[0].gene:<30.26f}     y: {parents[0].fit:<30.26f}      std_dev: {std_dev:<30.26f}\")\n",
    "\n",
    "EA(100,50,1000,200)\n",
    "        \n"
   ],
   "outputs": [
    {
     "output_type": "stream",
     "name": "stdout",
     "text": [
      "x: -78.02487276447922681654745247     y: 0.00000000442378222942352295        std_dev: 0.00000000000765217939388973  \n"
     ]
    }
   ],
   "metadata": {}
  },
  {
   "cell_type": "code",
   "execution_count": 23,
   "source": [
    "def EA_adaptive(mu, sigma, std_dev, max_gen):\n",
    "\n",
    "    parents = [Solution(std_dev=std_dev) for _ in range(mu)]\n",
    "    children = []\n",
    "    pool = parents\n",
    "    pool.sort(key=lambda x: x.fit)\n",
    "    cur_std_dev = std_dev\n",
    "\n",
    "    opt_ratio = 0.2\n",
    "    alpha = 1.1\n",
    "    \n",
    "\n",
    "\n",
    "    for _ in range(max_gen):\n",
    "        \n",
    "        improvs = 0\n",
    "\n",
    "        for c in range(sigma):\n",
    "\n",
    "            child = Solution(parent=parents[c], std_dev=cur_std_dev)\n",
    "\n",
    "            if child.fit > parents[c].fit:\n",
    "                improvs +=1\n",
    "        \n",
    "            children.append(child)\n",
    "        \n",
    "        cur_ratio = round(improvs / sigma, 2)\n",
    "\n",
    "        if cur_ratio < opt_ratio:\n",
    "            cur_std_dev *= alpha\n",
    "        elif cur_ratio > opt_ratio:\n",
    "            cur_std_dev /= alpha\n",
    "        \n",
    "        pool = parents + children\n",
    "        pool.sort(key=lambda x: x.fit)\n",
    "\n",
    "        parents = list(pool[:mu])\n",
    "        children = []\n",
    "        \n",
    "    print(f\"x: {parents[0].gene:<30.26f}     y: {parents[0].fit:<30.26f}      std_dev: {cur_std_dev:<30.26f}\")\n",
    "\n",
    "\n",
    "\n"
   ],
   "outputs": [],
   "metadata": {}
  },
  {
   "cell_type": "code",
   "execution_count": 24,
   "source": [
    "EA(100,20,1000,200)\n",
    "EA_adaptive(100,20,10,200)"
   ],
   "outputs": [
    {
     "output_type": "stream",
     "name": "stdout",
     "text": [
      "x: -78.02487276447905628629087005     y: 0.00000001490116119384765625        std_dev: 0.00000000000765217939388973  \n",
      "x: -78.02487276474411714843881782     y: 0.00001606950536370277404785        std_dev: 0.00000005265783124294511295  \n"
     ]
    }
   ],
   "metadata": {}
  },
  {
   "cell_type": "code",
   "execution_count": null,
   "source": [],
   "outputs": [],
   "metadata": {}
  }
 ],
 "metadata": {
  "orig_nbformat": 4,
  "language_info": {
   "name": "python",
   "version": "3.8.10",
   "mimetype": "text/x-python",
   "codemirror_mode": {
    "name": "ipython",
    "version": 3
   },
   "pygments_lexer": "ipython3",
   "nbconvert_exporter": "python",
   "file_extension": ".py"
  },
  "kernelspec": {
   "name": "python3",
   "display_name": "Python 3.8.10 64-bit"
  },
  "interpreter": {
   "hash": "31f2aee4e71d21fbe5cf8b01ff0e069b9275f58929596ceb00d14d90e3e16cd6"
  }
 },
 "nbformat": 4,
 "nbformat_minor": 2
}